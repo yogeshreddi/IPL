{
 "cells": [
  {
   "cell_type": "code",
   "execution_count": 1,
   "metadata": {
    "collapsed": false
   },
   "outputs": [
    {
     "name": "stderr",
     "output_type": "stream",
     "text": [
      "C:\\Anaconda3\\lib\\site-packages\\bs4\\__init__.py:166: UserWarning: No parser was explicitly specified, so I'm using the best available HTML parser for this system (\"lxml\"). This usually isn't a problem, but if you run this code on another system, or in a different virtual environment, it may use a different parser and behave differently.\n",
      "\n",
      "To get rid of this warning, change this:\n",
      "\n",
      " BeautifulSoup([your markup])\n",
      "\n",
      "to this:\n",
      "\n",
      " BeautifulSoup([your markup], \"lxml\")\n",
      "\n",
      "  markup_type=markup_type))\n"
     ]
    }
   ],
   "source": [
    "### Schedule scraping using pandas and beautifulsoup \n",
    "\n",
    "#Imporitng required libraries, requests for requesting/getting for the html content.\n",
    "#BeautifulSoup for scraping the content for the html pages we fecthed using tag names.\n",
    "#Pandas for playing with the data we have scraped.\n",
    "\n",
    "import requests\n",
    "from bs4 import BeautifulSoup\n",
    "import pandas\n",
    "\n",
    "schedule_teams = []\n",
    "schedule_day_night = []\n",
    "schedule_venue = []\n",
    "schedule_date = []\n",
    "schedule_team1 = []\n",
    "schedule_team2 = []\n",
    "schedule_url = 'http://www.espncricinfo.com/indian-t20-league-2016/content/series/968923.html?template=fixtures'\n",
    "schedule_response = requests.get(schedule_url)\n",
    "schedule_soup =  BeautifulSoup(schedule_response.content)\n",
    "for schedule_link1 in schedule_soup.find_all(\"li\",{\"class\":\"large-20 medium-20 columns\"}):\n",
    "        schedule_teams.append(str(schedule_link1.find_all(\"span\",{\"class\":\"play_team\"})[0].text).split('-')[1].strip())\n",
    "        schedule_team1.append(str(schedule_link1.find_all(\"span\",{\"class\":\"play_team\"})[0].text).split('-')[1].split(' v ')[0].strip())\n",
    "        schedule_team2.append(str(schedule_link1.find_all(\"span\",{\"class\":\"play_team\"})[0].text).split('-')[1].split(' v ')[1].strip())\n",
    "        schedule_day_night.append(str(schedule_link1.find_all(\"span\",{\"class\":\"d_n\"})[0].text).strip())\n",
    "        schedule_venue.append(str(schedule_link1.find_all(\"span\",{\"class\":\"play_stadium\"})[0].text).strip())\n",
    "        schedule_date.append(str(schedule_link1.find_all(\"span\",{\"class\":\"fixture_date\"})[0].text).strip())\n",
    "        \n",
    "        \n",
    "schedule_data = pandas.DataFrame({'Match':schedule_teams,'Home_Team':schedule_team1,'Touring_Team':schedule_team1,'day_or_night':schedule_day_night,'Venue':schedule_venue,'Date':schedule_date})\n",
    "\n",
    "schedule_data.to_csv(r'E:\\schedule.csv')"
   ]
  },
  {
   "cell_type": "code",
   "execution_count": null,
   "metadata": {
    "collapsed": true
   },
   "outputs": [],
   "source": []
  }
 ],
 "metadata": {
  "kernelspec": {
   "display_name": "Python 3",
   "language": "python",
   "name": "python3"
  },
  "language_info": {
   "codemirror_mode": {
    "name": "ipython",
    "version": 3
   },
   "file_extension": ".py",
   "mimetype": "text/x-python",
   "name": "python",
   "nbconvert_exporter": "python",
   "pygments_lexer": "ipython3",
   "version": "3.5.1"
  }
 },
 "nbformat": 4,
 "nbformat_minor": 0
}
